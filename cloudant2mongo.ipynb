{
 "cells": [
  {
   "cell_type": "code",
   "execution_count": null,
   "metadata": {},
   "outputs": [],
   "source": [
    "pip install pymongo\n",
    "pip install cloudant\n",
    "pip install --upgrade \"ibmcloudant>=0.0.27\"\n",
    "pip install --upgrade \"ibm-cos-sdk>=2.7.0\"\n",
    "pip install cloudant pymongo"
   ]
  },
  {
   "cell_type": "code",
   "execution_count": 42,
   "metadata": {},
   "outputs": [
    {
     "name": "stdout",
     "output_type": "stream",
     "text": [
      "Migration completed successfully.\n"
     ]
    }
   ],
   "source": [
    "import cloudant\n",
    "from pymongo import MongoClient\n",
    "\n",
    "# Connect to Cloudant (username, password, url)\n",
    "cloudant_client = cloudant.Cloudant(\"\", \"\", url=\"\")\n",
    "cloudant_client.connect()\n",
    "cloudant_db = cloudant_client['your db']\n",
    "\n",
    "# Connect to MongoDB\n",
    "mongo_client = MongoClient(\"your url\")\n",
    "mongo_db = mongo_client['your db']\n",
    "\n",
    "collection_mapping = {\n",
    "    \"Application\": \"Application\",\n",
    "    \"Blueform\": \"Blueform\",\n",
    "    \"User\": \"User\",\n",
    "    \"User-unverified\": \"User-unverified\",\n",
    "    \"Job\": \"Job\",\n",
    "    \"Test\": \"Test\",\n",
    "    \"EVS\": \"EVS\",\n",
    "    \"Contract\": \"Contract\",\n",
    "    \"Hiring Form\": \"Hiring Form\",\n",
    "    \"Recruiter\": \"Recruiter\",\n",
    "    \"Notification\": \"Notification\",\n",
    "    \"Onboarding_Form\": \"Onboarding_Form\",\n",
    "    \"Testimomy\": \"Testimomy\",\n",
    "}\n",
    "\n",
    "for document in cloudant_db:\n",
    "    doc_type = document.get(\"type\")\n",
    "\n",
    "    if doc_type in collection_mapping:\n",
    "        # Get or create the MongoDB collection\n",
    "        mongo_collection = mongo_db[collection_mapping[doc_type]]\n",
    "\n",
    "        # Insert the document into the appropriate MongoDB collection\n",
    "        mongo_collection.insert_one(document)\n",
    "\n",
    "cloudant_client.disconnect()\n",
    "mongo_client.close()\n",
    "\n",
    "print(\"Migration completed successfully.\")\n"
   ]
  }
 ],
 "metadata": {
  "kernelspec": {
   "display_name": "Python 3",
   "language": "python",
   "name": "python3"
  },
  "language_info": {
   "codemirror_mode": {
    "name": "ipython",
    "version": 3
   },
   "file_extension": ".py",
   "mimetype": "text/x-python",
   "name": "python",
   "nbconvert_exporter": "python",
   "pygments_lexer": "ipython3",
   "version": "3.12.2"
  }
 },
 "nbformat": 4,
 "nbformat_minor": 2
}
